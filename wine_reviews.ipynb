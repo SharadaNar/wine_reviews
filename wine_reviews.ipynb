{
 "cells": [
  {
   "cell_type": "code",
   "execution_count": null,
   "metadata": {},
   "outputs": [],
   "source": [
    "import pandas as pd\n",
    "import numpy as np\n",
    "import matplotlib.pyplot as plt"
   ]
  },
  {
   "cell_type": "markdown",
   "metadata": {},
   "source": [
    "# Uploading data"
   ]
  },
  {
   "cell_type": "code",
   "execution_count": null,
   "metadata": {},
   "outputs": [],
   "source": [
    "full_data = pd.read_csv('winemag-data-130k-v2.csv')\n",
    "full_data"
   ]
  },
  {
   "cell_type": "markdown",
   "metadata": {},
   "source": [
    "# Cleaning data"
   ]
  },
  {
   "cell_type": "code",
   "execution_count": null,
   "metadata": {},
   "outputs": [],
   "source": [
    "clean_data = full_data.drop(['Unnamed: 0','taster_twitter_handle','designation','title'], axis = 1)"
   ]
  },
  {
   "cell_type": "code",
   "execution_count": null,
   "metadata": {},
   "outputs": [],
   "source": [
    "clean_data.head()"
   ]
  },
  {
   "cell_type": "code",
   "execution_count": null,
   "metadata": {},
   "outputs": [],
   "source": [
    "#quantifying the description column by making a is_fruity and a is_dry column\n",
    "clean_data.description = clean_data.description.str.lower()\n",
    "clean_data['is_fruity'] = clean_data.description.str.contains('fruit|ripe|berry|orange|plum|cherry|citrus|prune|currant|peach|jam')\n",
    "clean_data['is_dry'] = clean_data.description.str.contains('dry|tannin|astringent|herb|earth|chalk|austere')\n",
    "clean_data = clean_data.drop(['description'],axis = 1)\n",
    "clean_data['Number'] = pd.Series([1]*full_data.size)\n",
    "clean_data.head()"
   ]
  },
  {
   "cell_type": "markdown",
   "metadata": {},
   "source": [
    "# Summary Stats, Pandas function, and MatPlotLib"
   ]
  },
  {
   "cell_type": "markdown",
   "metadata": {},
   "source": [
    "### Fruitiness of wine based on country of origin. Double click on large plots to scroll through."
   ]
  },
  {
   "cell_type": "code",
   "execution_count": null,
   "metadata": {},
   "outputs": [],
   "source": [
    "mean_by_country = clean_data.groupby('country').mean()\n",
    "plt.figure(figsize=(80,10))\n",
    "plt.bar(mean_by_country.index,mean_by_country.is_fruity)\n",
    "plt.ylim((0,1))\n",
    "plt.ylabel('Mean of is fruity')\n",
    "plt.xlabel('Country of origin')\n",
    "plt.title('Wine Fruitiness vs. Country of Origin (all countries)')"
   ]
  },
  {
   "cell_type": "markdown",
   "metadata": {},
   "source": [
    "This graph (names of countries are visible in downloaded image) shows little significant difference in wine fruitiness between countries. Most countries produce more fruity wine than non-fruity wine."
   ]
  },
  {
   "cell_type": "code",
   "execution_count": null,
   "metadata": {},
   "outputs": [],
   "source": [
    "#top twelve wine producing countries\n",
    "#first twelve countries of origin have number of wine bottles above 1000, so these will be the data used to provide more meaningful analysis\n",
    "top_twelve_countries = clean_data.groupby('country').sum().Number.sort_values(ascending=False)[0:12].index\n",
    "top_countries_mean = mean_by_country.loc[top_twelve_countries]\n",
    "plt.figure(figsize=(15,5))\n",
    "plt.bar(top_countries_mean.index,top_countries_mean.is_fruity)\n",
    "plt.ylim((0,1))\n",
    "plt.ylabel('Mean of is fruity')\n",
    "plt.xlabel('Country of origin')\n",
    "plt.title('Wine Fruitiness vs. Country of Origin (top 12 Countries)')"
   ]
  },
  {
   "cell_type": "markdown",
   "metadata": {},
   "source": [
    "This graph does not provide more meaningful or different interpretations of the data."
   ]
  },
  {
   "cell_type": "markdown",
   "metadata": {},
   "source": [
    "### Dryness of wine based on country of origin"
   ]
  },
  {
   "cell_type": "code",
   "execution_count": null,
   "metadata": {},
   "outputs": [],
   "source": [
    "mean_by_country = clean_data.groupby('country').mean()\n",
    "plt.figure(figsize=(80,10))\n",
    "plt.bar(mean_by_country.index,mean_by_country.is_dry)\n",
    "plt.ylim((0,1))\n",
    "plt.ylabel('Mean of is dry')\n",
    "plt.xlabel('Country of origin')\n",
    "plt.title('Wine Dryness vs Country of Origin (all countries)')"
   ]
  },
  {
   "cell_type": "markdown",
   "metadata": {},
   "source": [
    "This plot shows more differences between wine dryness and country of origin. China and Slovakia appear to produce more dry wines than sweet wines compared to other countries. England, Greece, Macedonia, Moldova, Serbia, Switzerland, and Ukraine appear to produce far more sweet wines than dry wines compared to the other countries. However, many of these countries, including Slovakia as well as the countries with no bars likely do not produce significant quanitities of wine to begin with. To see how different countries affect the global wine market in terms of sweet and dry wines, we should look at a bar plot with only the top 12 wine producing countries."
   ]
  },
  {
   "cell_type": "code",
   "execution_count": null,
   "metadata": {},
   "outputs": [],
   "source": [
    "plt.figure(figsize=(15,5))\n",
    "plt.bar(top_countries_mean.index,top_countries_mean.is_dry)\n",
    "plt.ylim((0,1))\n",
    "plt.ylabel('Mean of is dry')\n",
    "plt.xlabel('Country of origin')\n",
    "plt.title('Wine Dryness vs. Country of Origin (top 12 countries)')"
   ]
  },
  {
   "cell_type": "markdown",
   "metadata": {},
   "source": [
    "### Points of Wine Based on Country of Origin"
   ]
  },
  {
   "cell_type": "code",
   "execution_count": null,
   "metadata": {},
   "outputs": [],
   "source": [
    "mean_by_country = clean_data.groupby('country').mean()\n",
    "plt.figure(figsize=(80,10))\n",
    "plt.bar(mean_by_country.index,mean_by_country.points)\n",
    "plt.ylim((80,100))\n",
    "plt.ylabel('Mean number of points')\n",
    "plt.xlabel('Country of origin')\n",
    "plt.title('Average Points vs Country of Origin (all countries)')"
   ]
  },
  {
   "cell_type": "markdown",
   "metadata": {},
   "source": [
    "Brazilian, Egyptian, Mexican, Peruvian, and Ukranian wines are not well liked. "
   ]
  },
  {
   "cell_type": "code",
   "execution_count": null,
   "metadata": {},
   "outputs": [],
   "source": [
    "plt.figure(figsize=(15,5))\n",
    "plt.bar(top_countries_mean.index,top_countries_mean.points)\n",
    "plt.ylim((80,100))\n",
    "plt.ylabel('Mean number of points')\n",
    "plt.xlabel('Country of origin')\n",
    "plt.title('Average Points vs Country of Origin (top 12 countries)')"
   ]
  },
  {
   "cell_type": "markdown",
   "metadata": {},
   "source": [
    "However, wines from countries that produce most of the world's wine appear to have similar average point values. "
   ]
  },
  {
   "cell_type": "markdown",
   "metadata": {},
   "source": [
    "### Does the price of the wine affect its points?"
   ]
  },
  {
   "cell_type": "code",
   "execution_count": null,
   "metadata": {},
   "outputs": [],
   "source": [
    "plt.scatter(clean_data.points,clean_data.price,s = 10,alpha=0.5)\n",
    "plt.title('Wine Mag Points vs. Price of Wine')\n",
    "plt.xlabel('Points')\n",
    "plt.ylabel('Price ($)')"
   ]
  },
  {
   "cell_type": "markdown",
   "metadata": {},
   "source": [
    "There appears to be some correlation between the price of the wine and the number of points it recieves, but it's not hugely significant."
   ]
  },
  {
   "cell_type": "markdown",
   "metadata": {},
   "source": [
    "# Sklearn"
   ]
  },
  {
   "cell_type": "markdown",
   "metadata": {},
   "source": [
    "I am trying to determine which factors most influence the number of points a wine recieves. This esentially means looking at the price, fruitiness, and dryness of the wine because data like country of origin and variety of wine have not been quanitified. This is a supervised learning task because there are specified input (price, fruitiness, dryness) and output (points) variables with which I tried to find a relationship between. I am going to use logistic regression."
   ]
  },
  {
   "cell_type": "code",
   "execution_count": null,
   "metadata": {},
   "outputs": [],
   "source": [
    "import sklearn"
   ]
  },
  {
   "cell_type": "code",
   "execution_count": null,
   "metadata": {},
   "outputs": [],
   "source": [
    "numericdata = clean_data[['price','is_fruity','is_dry','points']]\n",
    "numericdata = numericdata.dropna(axis = 0)\n",
    "numericdata.is_fruity = numericdata.is_fruity.astype(float)\n",
    "numericdata.is_dry = numericdata.is_dry.astype(float)\n",
    "X = numericdata[['price','is_fruity','is_dry']].values\n",
    "y = numericdata[['points']].values\n",
    "feature_names = np.array(['price','is_fruity','is_dry'])\n",
    "feature_names"
   ]
  },
  {
   "cell_type": "code",
   "execution_count": null,
   "metadata": {},
   "outputs": [],
   "source": [
    "from sklearn.model_selection import train_test_split\n",
    "X_train, X_test, y_train, y_test = train_test_split(X,y)"
   ]
  },
  {
   "cell_type": "code",
   "execution_count": null,
   "metadata": {},
   "outputs": [],
   "source": [
    "from sklearn.linear_model import LinearRegression"
   ]
  },
  {
   "cell_type": "code",
   "execution_count": null,
   "metadata": {},
   "outputs": [],
   "source": [
    "reg = LinearRegression()"
   ]
  },
  {
   "cell_type": "code",
   "execution_count": null,
   "metadata": {},
   "outputs": [],
   "source": [
    "reg.fit(X_train,y_train)"
   ]
  },
  {
   "cell_type": "code",
   "execution_count": null,
   "metadata": {},
   "outputs": [],
   "source": [
    "reg.score(X_train,y_train)\n",
    "#this is a terrible fit but ¯\\_(ツ)_/¯"
   ]
  },
  {
   "cell_type": "code",
   "execution_count": null,
   "metadata": {},
   "outputs": [],
   "source": [
    "preds = reg.predict(X_test)"
   ]
  },
  {
   "cell_type": "code",
   "execution_count": null,
   "metadata": {},
   "outputs": [],
   "source": [
    "reg.score(X_test,y_test)\n",
    "#the fits are similarly terrible for both data sets"
   ]
  },
  {
   "cell_type": "code",
   "execution_count": null,
   "metadata": {},
   "outputs": [],
   "source": [
    "reg.coef_ = np.squeeze(reg.coef_)"
   ]
  },
  {
   "cell_type": "code",
   "execution_count": null,
   "metadata": {},
   "outputs": [],
   "source": [
    "pd.Series(reg.coef_,index=feature_names)"
   ]
  },
  {
   "cell_type": "markdown",
   "metadata": {},
   "source": [
    "The results show that the price of the wine has very little to do with the number of points it receives. The coefficients for is_fruity and is_dry show that the fruitiness of the wine plays the largest role in its point value and the dryness plays a slightly lesser role. "
   ]
  },
  {
   "cell_type": "code",
   "execution_count": null,
   "metadata": {},
   "outputs": [],
   "source": []
  }
 ],
 "metadata": {
  "kernelspec": {
   "display_name": "Python 3",
   "language": "python",
   "name": "python3"
  },
  "language_info": {
   "codemirror_mode": {
    "name": "ipython",
    "version": 3
   },
   "file_extension": ".py",
   "mimetype": "text/x-python",
   "name": "python",
   "nbconvert_exporter": "python",
   "pygments_lexer": "ipython3",
   "version": "3.7.1"
  }
 },
 "nbformat": 4,
 "nbformat_minor": 2
}
